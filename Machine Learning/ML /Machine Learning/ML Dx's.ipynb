{
 "cells": [
  {
   "cell_type": "markdown",
   "metadata": {},
   "source": [
    "# Dexun's Machine Learning"
   ]
  },
  {
   "cell_type": "code",
   "execution_count": null,
   "metadata": {},
   "outputs": [],
   "source": [
    "latitude = []\n",
    "longitude = []\n",
    "blk_no = []\n",
    "road_name = []\n",
    "postal_code = []\n",
    "address = []\n",
    "count = 0\n",
    "\n",
    "for row in range(len(address_list)):\n",
    "    query_address = address_list[row]\n",
    "    query_string=url+str(query_address)+'&returnGeom=Y&getAddrDetails=Y'\n",
    "    resp = requests.get(query_string)\n",
    "\n",
    "\n",
    "    data_geo_location=json.loads(resp.content)\n",
    "    if data_geo_location['found'] != 0:\n",
    "        latitude.append(data_geo_location['results'][0]['LATITUDE'])\n",
    "        longitude.append(data_geo_location['results'][0]['LONGITUDE'])\n",
    "        blk_no.append(data_geo_location['results'][0]['BLK_NO'])\n",
    "        road_name.append(data_geo_location['results'][0]['ROAD_NAME'])\n",
    "        postal_code.append(data_geo_location['results'][0]['POSTAL'])\n",
    "        address.append(query_address)\n",
    "        print (str(query_address) + \" ,Lat: \" + data_geo_location['results'][0]['LATITUDE'] + \" Long: \" + data_geo_location['results'][0]['LONGITUDE'])\n",
    "    else:"
   ]
  }
 ],
 "metadata": {
  "language_info": {
   "name": "python"
  }
 },
 "nbformat": 4,
 "nbformat_minor": 2
}
